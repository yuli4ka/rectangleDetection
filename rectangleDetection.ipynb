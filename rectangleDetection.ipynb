{
  "nbformat": 4,
  "nbformat_minor": 0,
  "metadata": {
    "colab": {
      "name": "rectangleDetection.ipynb",
      "provenance": [],
      "collapsed_sections": [],
      "authorship_tag": "ABX9TyPoXpN+zLbMs9n4CCQ9Emqb",
      "include_colab_link": true
    },
    "kernelspec": {
      "name": "python3",
      "display_name": "Python 3"
    }
  },
  "cells": [
    {
      "cell_type": "markdown",
      "metadata": {
        "id": "view-in-github",
        "colab_type": "text"
      },
      "source": [
        "<a href=\"https://colab.research.google.com/github/yuli4ka/rectangleDetection/blob/main/rectangleDetection.ipynb\" target=\"_parent\"><img src=\"https://colab.research.google.com/assets/colab-badge.svg\" alt=\"Open In Colab\"/></a>"
      ]
    },
    {
      "cell_type": "code",
      "metadata": {
        "id": "wMFu8TBe1FfU"
      },
      "source": [
        "from keras.models import Sequential\r\n",
        "from keras.layers import Dense, Activation, Dropout\r\n",
        "from keras.optimizers import SGD\r\n",
        "\r\n",
        "import numpy as np\r\n",
        "import matplotlib.pyplot as plt\r\n",
        "import matplotlib\r\n",
        "%matplotlib inline"
      ],
      "execution_count": 373,
      "outputs": []
    },
    {
      "cell_type": "code",
      "metadata": {
        "id": "uN3NpuVF1M8g"
      },
      "source": [
        "num_images = 100000\r\n",
        "num_rectangles = 1\r\n",
        "image_size = 30\r\n",
        "min_rectangle_size = 1\r\n",
        "max_rectangle_size = 25"
      ],
      "execution_count": 374,
      "outputs": []
    },
    {
      "cell_type": "markdown",
      "metadata": {
        "id": "TAUJzaXP8RQM"
      },
      "source": [
        "Creating dataset"
      ]
    },
    {
      "cell_type": "code",
      "metadata": {
        "id": "tlBiRDTg1mFq"
      },
      "source": [
        "images = np.zeros((num_images, image_size, image_size))\r\n",
        "bound_boxes = np.zeros((num_images, num_rectangles, 4))"
      ],
      "execution_count": 375,
      "outputs": []
    },
    {
      "cell_type": "code",
      "metadata": {
        "id": "Jise2BAl2fVJ"
      },
      "source": [
        "for i in range(num_images):\r\n",
        "  for j in range(num_rectangles):\r\n",
        "    w, h = np.random.randint(min_rectangle_size, max_rectangle_size, size=2)\r\n",
        "    x0 = np.random.randint(0, image_size - w)\r\n",
        "    y0 = np.random.randint(0, image_size - h)\r\n",
        "    images[i, x0:x0+w, y0:y0+h] = 1\r\n",
        "    bound_boxes[i, j] = [x0, y0, w, h]"
      ],
      "execution_count": 376,
      "outputs": []
    },
    {
      "cell_type": "code",
      "metadata": {
        "colab": {
          "base_uri": "https://localhost:8080/",
          "height": 269
        },
        "id": "7FfbqfVK4Gup",
        "outputId": "b9a0f0be-2ac3-4f7c-b476-2cd2597467fd"
      },
      "source": [
        "i = np.random.randint(0, num_images)\r\n",
        "plt.imshow(images[i].T, cmap='Greys', interpolation='none', origin='lower', extent=[0, image_size, 0, image_size])\r\n",
        "for bound_box in bound_boxes[i]:\r\n",
        "    plt.gca().add_patch(matplotlib.patches.Rectangle((bound_box[0], bound_box[1]), bound_box[2], bound_box[3], ec='r', fc='none'))"
      ],
      "execution_count": 377,
      "outputs": [
        {
          "output_type": "display_data",
          "data": {
            "image/png": "[encoded data removed]",
            "text/plain": [
              "<Figure size 432x288 with 1 Axes>"
            ]
          },
          "metadata": {
            "tags": [],
            "needs_background": "light"
          }
        }
      ]
    },
    {
      "cell_type": "markdown",
      "metadata": {
        "id": "cGXuWvRU8VAh"
      },
      "source": [
        "Reshaping and normalizing"
      ]
    },
    {
      "cell_type": "code",
      "metadata": {
        "colab": {
          "base_uri": "https://localhost:8080/"
        },
        "id": "DjbMUHjM4vbe",
        "outputId": "143abcf0-4909-4d91-d017-56bc6d3e15f0"
      },
      "source": [
        "images.shape, np.mean(images), np.std(images)"
      ],
      "execution_count": 378,
      "outputs": [
        {
          "output_type": "execute_result",
          "data": {
            "text/plain": [
              "((100000, 30, 30), 0.1733995, 0.378592278579146)"
            ]
          },
          "metadata": {
            "tags": []
          },
          "execution_count": 378
        }
      ]
    },
    {
      "cell_type": "code",
      "metadata": {
        "id": "GajJSjUQ6ywS"
      },
      "source": [
        "X = images.reshape(num_images, -1)\r\n",
        "X = (X - np.mean(images)) / np.std(images)"
      ],
      "execution_count": 379,
      "outputs": []
    },
    {
      "cell_type": "code",
      "metadata": {
        "colab": {
          "base_uri": "https://localhost:8080/"
        },
        "id": "DcbEeldg6-W4",
        "outputId": "f76f7894-f5bd-4eb7-cc1d-77edbb96c022"
      },
      "source": [
        "X.shape, np.mean(X), np.std(X)"
      ],
      "execution_count": 380,
      "outputs": [
        {
          "output_type": "execute_result",
          "data": {
            "text/plain": [
              "((100000, 900), -1.0782564964352382e-17, 1.0000000000000002)"
            ]
          },
          "metadata": {
            "tags": []
          },
          "execution_count": 380
        }
      ]
    },
    {
      "cell_type": "code",
      "metadata": {
        "colab": {
          "base_uri": "https://localhost:8080/"
        },
        "id": "s9mZzYyn7UbA",
        "outputId": "4617f07a-5364-4ef4-ea18-89ad6282cb50"
      },
      "source": [
        "bound_boxes.shape, np.mean(bound_boxes), np.std(bound_boxes)"
      ],
      "execution_count": 381,
      "outputs": [
        {
          "output_type": "execute_result",
          "data": {
            "text/plain": [
              "((100000, 1, 4), 10.362515, 7.00302169600916)"
            ]
          },
          "metadata": {
            "tags": []
          },
          "execution_count": 381
        }
      ]
    },
    {
      "cell_type": "code",
      "metadata": {
        "id": "Ru-mKIXm7xDJ"
      },
      "source": [
        "Y = bound_boxes.reshape(num_images, -1)\r\n",
        "Y = Y / image_size"
      ],
      "execution_count": 382,
      "outputs": []
    },
    {
      "cell_type": "code",
      "metadata": {
        "colab": {
          "base_uri": "https://localhost:8080/"
        },
        "id": "bG0P47jo78gV",
        "outputId": "970d7c55-0c4d-449e-f8f9-825c615849f6"
      },
      "source": [
        "Y.shape, np.mean(Y), np.std(Y)"
      ],
      "execution_count": 383,
      "outputs": [
        {
          "output_type": "execute_result",
          "data": {
            "text/plain": [
              "((100000, 4), 0.34541716666666666, 0.23343405653363866)"
            ]
          },
          "metadata": {
            "tags": []
          },
          "execution_count": 383
        }
      ]
    },
    {
      "cell_type": "markdown",
      "metadata": {
        "id": "GcC2YUV48hrN"
      },
      "source": [
        "Get train and test set"
      ]
    },
    {
      "cell_type": "code",
      "metadata": {
        "id": "W2x5rNur8LET"
      },
      "source": [
        "i = int(num_images * 0.8)\r\n",
        "x_train = X[:i]\r\n",
        "y_train = Y[:i]\r\n",
        "x_test = X[i:]\r\n",
        "y_test = Y[i:]\r\n",
        "test_images = images[i:]\r\n",
        "test_boxes = bound_boxes[i:]"
      ],
      "execution_count": 384,
      "outputs": []
    },
    {
      "cell_type": "markdown",
      "metadata": {
        "id": "uDFGhHgn9Iur"
      },
      "source": [
        "Model"
      ]
    },
    {
      "cell_type": "code",
      "metadata": {
        "id": "RLfNy5tE9GBC"
      },
      "source": [
        "model = Sequential()\r\n",
        "\r\n",
        "model.add(Dense(100, input_dim=X.shape[-1], activation='relu'))\r\n",
        "model.add(Dropout(0.5))\r\n",
        "model.add(Dense(64, activation='relu'))\r\n",
        "model.add(Dense(Y.shape[-1], activation='softmax'))\r\n",
        "\r\n",
        "model.compile('adadelta', 'mse', metrics = ['acc'],)"
      ],
      "execution_count": 385,
      "outputs": []
    },
    {
      "cell_type": "code",
      "metadata": {
        "id": "3Obt13bB-SW3"
      },
      "source": [
        "epoch_num = 20\r\n",
        "xc = range(epoch_num)"
      ],
      "execution_count": 386,
      "outputs": []
    },
    {
      "cell_type": "code",
      "metadata": {
        "colab": {
          "base_uri": "https://localhost:8080/",
          "height": 871
        },
        "id": "cVYAuOLi-HLX",
        "outputId": "3f1d1a4e-7234-496e-a374-3b3c14f74bfd"
      },
      "source": [
        "history = []\r\n",
        "for i in range(epoch_num):\r\n",
        "  history.append(model.fit(x_train, y_train, batch_size=50,validation_data=(x_test,y_test), epochs=1))\r\n",
        "    \r\n",
        "train_acc = []\r\n",
        "for i in range(epoch_num):\r\n",
        "  train_acc.append(history[i].history['acc'])\r\n",
        "    \r\n",
        "plt.figure()\r\n",
        "plt.plot(xc, train_acc)\r\n",
        "\r\n",
        "val_acc = []\r\n",
        "for i in range(epoch_num):\r\n",
        "  val_acc.append(history[i].history['val_acc'])\r\n",
        "\r\n",
        "plt.figure()\r\n",
        "plt.plot(xc, val_acc)"
      ],
      "execution_count": 387,
      "outputs": [
        {
          "output_type": "stream",
          "text": [
            "1600/1600 [==============================] - 5s 3ms/step - loss: 0.1027 - acc: 0.3387 - val_loss: 0.0588 - val_acc: 0.4154\n",
            "1600/1600 [==============================] - 5s 3ms/step - loss: 0.0742 - acc: 0.3762 - val_loss: 0.0521 - val_acc: 0.4559\n",
            "1600/1600 [==============================] - 5s 3ms/step - loss: 0.0656 - acc: 0.4053 - val_loss: 0.0494 - val_acc: 0.4715\n",
            "1600/1600 [==============================] - 5s 3ms/step - loss: 0.0607 - acc: 0.4299 - val_loss: 0.0470 - val_acc: 0.4960\n",
            "1600/1600 [==============================] - 5s 3ms/step - loss: 0.0571 - acc: 0.4543 - val_loss: 0.0449 - val_acc: 0.5161\n",
            "1600/1600 [==============================] - 5s 3ms/step - loss: 0.0542 - acc: 0.4728 - val_loss: 0.0431 - val_acc: 0.5361\n",
            "1600/1600 [==============================] - 5s 3ms/step - loss: 0.0522 - acc: 0.4843 - val_loss: 0.0416 - val_acc: 0.5559\n",
            "1600/1600 [==============================] - 5s 3ms/step - loss: 0.0502 - acc: 0.5026 - val_loss: 0.0404 - val_acc: 0.5757\n",
            "1600/1600 [==============================] - 5s 3ms/step - loss: 0.0487 - acc: 0.5143 - val_loss: 0.0394 - val_acc: 0.5911\n",
            "1600/1600 [==============================] - 5s 3ms/step - loss: 0.0474 - acc: 0.5269 - val_loss: 0.0385 - val_acc: 0.6064\n",
            "1600/1600 [==============================] - 5s 3ms/step - loss: 0.0463 - acc: 0.5335 - val_loss: 0.0378 - val_acc: 0.6158\n",
            "1600/1600 [==============================] - 5s 3ms/step - loss: 0.0452 - acc: 0.5460 - val_loss: 0.0371 - val_acc: 0.6280\n",
            "1600/1600 [==============================] - 5s 3ms/step - loss: 0.0444 - acc: 0.5479 - val_loss: 0.0365 - val_acc: 0.6384\n",
            "1600/1600 [==============================] - 5s 3ms/step - loss: 0.0436 - acc: 0.5594 - val_loss: 0.0360 - val_acc: 0.6470\n",
            "1600/1600 [==============================] - 5s 3ms/step - loss: 0.0428 - acc: 0.5673 - val_loss: 0.0356 - val_acc: 0.6548\n",
            "1600/1600 [==============================] - 5s 3ms/step - loss: 0.0422 - acc: 0.5754 - val_loss: 0.0352 - val_acc: 0.6604\n",
            "1600/1600 [==============================] - 7s 4ms/step - loss: 0.0418 - acc: 0.5763 - val_loss: 0.0348 - val_acc: 0.6659\n",
            "1600/1600 [==============================] - 5s 3ms/step - loss: 0.0412 - acc: 0.5829 - val_loss: 0.0345 - val_acc: 0.6711\n",
            "1600/1600 [==============================] - 5s 3ms/step - loss: 0.0407 - acc: 0.5856 - val_loss: 0.0342 - val_acc: 0.6768\n",
            "1600/1600 [==============================] - 5s 3ms/step - loss: 0.0403 - acc: 0.5918 - val_loss: 0.0339 - val_acc: 0.6804\n"
          ],
          "name": "stdout"
        },
        {
          "output_type": "execute_result",
          "data": {
            "text/plain": [
              "[<matplotlib.lines.Line2D at 0x7f428e1a1780>]"
            ]
          },
          "metadata": {
            "tags": []
          },
          "execution_count": 387
        },
        {
          "output_type": "display_data",
          "data": {
            "image/png": "[encoded data removed]",
            "text/plain": [
              "<Figure size 432x288 with 1 Axes>"
            ]
          },
          "metadata": {
            "tags": [],
            "needs_background": "light"
          }
        },
        {
          "output_type": "display_data",
          "data": {
            "image/png": "[encoded data removed]",
            "text/plain": [
              "<Figure size 432x288 with 1 Axes>"
            ]
          },
          "metadata": {
            "tags": [],
            "needs_background": "light"
          }
        }
      ]
    }
  ]
}