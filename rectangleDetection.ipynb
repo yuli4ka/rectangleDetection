{
  "nbformat": 4,
  "nbformat_minor": 0,
  "metadata": {
    "colab": {
      "name": "rectangleDetection.ipynb",
      "provenance": [],
      "collapsed_sections": [],
      "authorship_tag": "ABX9TyPk7Dv/3c7thp4zHCxry4r2",
      "include_colab_link": true
    },
    "kernelspec": {
      "name": "python3",
      "display_name": "Python 3"
    }
  },
  "cells": [
    {
      "cell_type": "markdown",
      "metadata": {
        "id": "view-in-github",
        "colab_type": "text"
      },
      "source": [
        "<a href=\"https://colab.research.google.com/github/yuli4ka/rectangleDetection/blob/main/rectangleDetection.ipynb\" target=\"_parent\"><img src=\"https://colab.research.google.com/assets/colab-badge.svg\" alt=\"Open In Colab\"/></a>"
      ]
    },
    {
      "cell_type": "code",
      "metadata": {
        "id": "wMFu8TBe1FfU"
      },
      "source": [
        "from keras.models import Sequential\r\n",
        "from keras.layers import Dense, Activation, Dropout\r\n",
        "from keras.optimizers import SGD\r\n",
        "\r\n",
        "import numpy as np\r\n",
        "import matplotlib.pyplot as plt\r\n",
        "import matplotlib\r\n",
        "%matplotlib inline"
      ],
      "execution_count": 135,
      "outputs": []
    },
    {
      "cell_type": "code",
      "metadata": {
        "id": "uN3NpuVF1M8g"
      },
      "source": [
        "num_images = 100000\r\n",
        "num_rectangles = 1\r\n",
        "image_size = 10\r\n",
        "min_rectangle_size = 2\r\n",
        "max_rectangle_size = 8"
      ],
      "execution_count": 136,
      "outputs": []
    },
    {
      "cell_type": "markdown",
      "metadata": {
        "id": "TAUJzaXP8RQM"
      },
      "source": [
        "Creating dataset"
      ]
    },
    {
      "cell_type": "code",
      "metadata": {
        "id": "tlBiRDTg1mFq"
      },
      "source": [
        "images = np.zeros((num_images, image_size, image_size))\r\n",
        "bound_boxes = np.zeros((num_images, num_rectangles, 4))"
      ],
      "execution_count": 137,
      "outputs": []
    },
    {
      "cell_type": "code",
      "metadata": {
        "id": "Jise2BAl2fVJ"
      },
      "source": [
        "for i in range(num_images):\r\n",
        "  for j in range(num_rectangles):\r\n",
        "    w, h = np.random.randint(min_rectangle_size, max_rectangle_size, size=2)\r\n",
        "    x0 = np.random.randint(0, image_size - w)\r\n",
        "    y0 = np.random.randint(0, image_size - h)\r\n",
        "    images[i, x0:x0+w, y0:y0+h] = 1\r\n",
        "    bound_boxes[i, j] = [x0, y0, w, h]"
      ],
      "execution_count": 138,
      "outputs": []
    },
    {
      "cell_type": "code",
      "metadata": {
        "colab": {
          "base_uri": "https://localhost:8080/",
          "height": 269
        },
        "id": "7FfbqfVK4Gup",
        "outputId": "0c171efe-9c09-4fab-9dd3-335957441261"
      },
      "source": [
        "i = np.random.randint(0, num_images)\r\n",
        "plt.imshow(images[i].T, cmap='Greys', interpolation='none', origin='lower', extent=[0, image_size, 0, image_size])\r\n",
        "for bound_box in bound_boxes[i]:\r\n",
        "    plt.gca().add_patch(matplotlib.patches.Rectangle((bound_box[0], bound_box[1]), bound_box[2], bound_box[3], ec='r', fc='none'))"
      ],
      "execution_count": 139,
      "outputs": [
        {
          "output_type": "display_data",
          "data": {
            "image/png": "[encoded data removed]",
            "text/plain": [
              "<Figure size 432x288 with 1 Axes>"
            ]
          },
          "metadata": {
            "tags": [],
            "needs_background": "light"
          }
        }
      ]
    },
    {
      "cell_type": "markdown",
      "metadata": {
        "id": "cGXuWvRU8VAh"
      },
      "source": [
        "Reshaping and normalizing"
      ]
    },
    {
      "cell_type": "code",
      "metadata": {
        "colab": {
          "base_uri": "https://localhost:8080/"
        },
        "id": "DjbMUHjM4vbe",
        "outputId": "926f4638-11df-4266-866d-79dd01082ddf"
      },
      "source": [
        "images.shape, np.mean(images), np.std(images)"
      ],
      "execution_count": 140,
      "outputs": [
        {
          "output_type": "execute_result",
          "data": {
            "text/plain": [
              "((100000, 10, 10), 0.2026741, 0.4019916780098687)"
            ]
          },
          "metadata": {
            "tags": []
          },
          "execution_count": 140
        }
      ]
    },
    {
      "cell_type": "code",
      "metadata": {
        "id": "GajJSjUQ6ywS"
      },
      "source": [
        "X = images.reshape(num_images, -1)\r\n",
        "X = (X - np.mean(images)) / np.std(images)"
      ],
      "execution_count": 141,
      "outputs": []
    },
    {
      "cell_type": "code",
      "metadata": {
        "colab": {
          "base_uri": "https://localhost:8080/"
        },
        "id": "DcbEeldg6-W4",
        "outputId": "bd6c80b3-a85b-4fc9-ba50-af9338ebd437"
      },
      "source": [
        "X.shape, np.mean(X), np.std(X)"
      ],
      "execution_count": 142,
      "outputs": [
        {
          "output_type": "execute_result",
          "data": {
            "text/plain": [
              "((100000, 100), 1.4736656339664477e-17, 0.9999999999999997)"
            ]
          },
          "metadata": {
            "tags": []
          },
          "execution_count": 142
        }
      ]
    },
    {
      "cell_type": "code",
      "metadata": {
        "colab": {
          "base_uri": "https://localhost:8080/"
        },
        "id": "s9mZzYyn7UbA",
        "outputId": "2efd62d3-3d66-4d60-d333-169378705e50"
      },
      "source": [
        "bound_boxes.shape, np.mean(bound_boxes), np.std(bound_boxes)"
      ],
      "execution_count": 143,
      "outputs": [
        {
          "output_type": "execute_result",
          "data": {
            "text/plain": [
              "((100000, 1, 4), 3.37569, 2.103788730814004)"
            ]
          },
          "metadata": {
            "tags": []
          },
          "execution_count": 143
        }
      ]
    },
    {
      "cell_type": "code",
      "metadata": {
        "id": "Ru-mKIXm7xDJ"
      },
      "source": [
        "Y = bound_boxes.reshape(num_images, -1)\r\n",
        "Y = Y / image_size"
      ],
      "execution_count": 144,
      "outputs": []
    },
    {
      "cell_type": "code",
      "metadata": {
        "colab": {
          "base_uri": "https://localhost:8080/"
        },
        "id": "bG0P47jo78gV",
        "outputId": "152ffee8-b290-4963-f6f5-7cd9b6f718ff"
      },
      "source": [
        "Y.shape, np.mean(Y), np.std(Y)"
      ],
      "execution_count": 145,
      "outputs": [
        {
          "output_type": "execute_result",
          "data": {
            "text/plain": [
              "((100000, 4), 0.337569, 0.21037887308140044)"
            ]
          },
          "metadata": {
            "tags": []
          },
          "execution_count": 145
        }
      ]
    },
    {
      "cell_type": "markdown",
      "metadata": {
        "id": "GcC2YUV48hrN"
      },
      "source": [
        "Get train and test set"
      ]
    },
    {
      "cell_type": "code",
      "metadata": {
        "id": "W2x5rNur8LET"
      },
      "source": [
        "i = int(num_images * 0.8)\r\n",
        "x_train = X[:i]\r\n",
        "y_train = Y[:i]\r\n",
        "x_test = X[i:]\r\n",
        "y_test = Y[i:]\r\n",
        "test_images = images[i:]\r\n",
        "test_boxes = bound_boxes[i:]"
      ],
      "execution_count": 146,
      "outputs": []
    },
    {
      "cell_type": "markdown",
      "metadata": {
        "id": "uDFGhHgn9Iur"
      },
      "source": [
        "Train model"
      ]
    },
    {
      "cell_type": "code",
      "metadata": {
        "id": "2vONpTk6qtva"
      },
      "source": [
        "epoch_num = 3\r\n",
        "xc = range(epoch_num)"
      ],
      "execution_count": 147,
      "outputs": []
    },
    {
      "cell_type": "code",
      "metadata": {
        "colab": {
          "base_uri": "https://localhost:8080/"
        },
        "id": "AWm6mYJ5pxaj",
        "outputId": "d07abae5-34eb-40e8-a015-bc1f7166a2a1"
      },
      "source": [
        "params=[]\r\n",
        "params.append({'d1':200, 'a1':'relu', 'drop1':0.2, 'd2':164, 'a2':'relu', 'd3':87, 'a3':'relu'})\r\n",
        "print(params)"
      ],
      "execution_count": 148,
      "outputs": [
        {
          "output_type": "stream",
          "text": [
            "[{'d1': 200, 'a1': 'relu', 'drop1': 0.2, 'd2': 164, 'a2': 'relu', 'd3': 87, 'a3': 'relu'}]\n"
          ],
          "name": "stdout"
        }
      ]
    },
    {
      "cell_type": "code",
      "metadata": {
        "id": "1B1LPrWBrs5p"
      },
      "source": [
        "accuracy = []\r\n",
        "models = []"
      ],
      "execution_count": 149,
      "outputs": []
    },
    {
      "cell_type": "code",
      "metadata": {
        "colab": {
          "base_uri": "https://localhost:8080/",
          "height": 707
        },
        "id": "RLfNy5tE9GBC",
        "outputId": "c1702332-2cd3-41e1-d94a-ae9d507ed5cf"
      },
      "source": [
        "for j in range(len(params)):\r\n",
        "  model = Sequential()\r\n",
        "  model = Sequential()\r\n",
        "\r\n",
        "  model.add(Dense(200, input_dim=X.shape[-1], activation='relu'))\r\n",
        "  model.add(Dropout(0.2))\r\n",
        "  model.add(Dense(164, activation='relu'))\r\n",
        "  model.add(Dense(87, activation='relu'))\r\n",
        "  model.add(Dense(Y.shape[-1], activation='softmax'))\r\n",
        "\r\n",
        "  model.compile('adadelta', 'mse', metrics = ['acc'])\r\n",
        "\r\n",
        "  history = []\r\n",
        "  for i in range(epoch_num):\r\n",
        "    history.append(model.fit(x_train, y_train, batch_size=50,validation_data=(x_test,y_test), epochs=1))\r\n",
        "    \r\n",
        "  models.append(model)\r\n",
        "\r\n",
        "  train_acc = []\r\n",
        "  for i in range(epoch_num):\r\n",
        "    train_acc.append(history[i].history['acc'])\r\n",
        "    \r\n",
        "  plt.figure()\r\n",
        "  plt.suptitle(\"train acc for model \" + str(params[j]))\r\n",
        "  plt.plot(xc, train_acc)\r\n",
        "\r\n",
        "  val_acc = []\r\n",
        "  for i in range(epoch_num):\r\n",
        "    val_acc.append(history[i].history['val_acc'])\r\n",
        "\r\n",
        "  plt.figure()\r\n",
        "  plt.suptitle(\"val acc for model \" + str(params[j]))\r\n",
        "  plt.plot(xc, val_acc)\r\n",
        "\r\n",
        "  max_accu = max(val_acc)\r\n",
        "  print()\r\n",
        "  print(\"for params\", params[j])\r\n",
        "  print(\"train accuracy: \", train_acc[val_acc.index(max_accu)][0])\r\n",
        "  print(\"test accuracy: \", max_accu)\r\n",
        "  print()\r\n",
        "  accuracy.append(max_accu)"
      ],
      "execution_count": 150,
      "outputs": [
        {
          "output_type": "stream",
          "text": [
            "1600/1600 [==============================] - 4s 3ms/step - loss: 0.0485 - acc: 0.3174 - val_loss: 0.0368 - val_acc: 0.4171\n",
            "1600/1600 [==============================] - 4s 2ms/step - loss: 0.0365 - acc: 0.4036 - val_loss: 0.0330 - val_acc: 0.4505\n",
            "1600/1600 [==============================] - 4s 2ms/step - loss: 0.0337 - acc: 0.4252 - val_loss: 0.0307 - val_acc: 0.4746\n",
            "\n",
            "for params {'d1': 200, 'a1': 'relu', 'drop1': 0.2, 'd2': 164, 'a2': 'relu', 'd3': 87, 'a3': 'relu'}\n",
            "train accuracy:  0.42522498965263367\n",
            "test accuracy:  [0.4745999872684479]\n",
            "\n"
          ],
          "name": "stdout"
        },
        {
          "output_type": "display_data",
          "data": {
            "image/png": "[encoded data removed]",
            "text/plain": [
              "<Figure size 432x288 with 1 Axes>"
            ]
          },
          "metadata": {
            "tags": [],
            "needs_background": "light"
          }
        },
        {
          "output_type": "display_data",
          "data": {
            "image/png": "[encoded data removed]",
            "text/plain": [
              "<Figure size 432x288 with 1 Axes>"
            ]
          },
          "metadata": {
            "tags": [],
            "needs_background": "light"
          }
        }
      ]
    },
    {
      "cell_type": "code",
      "metadata": {
        "colab": {
          "base_uri": "https://localhost:8080/"
        },
        "id": "qKaY5fqks1_I",
        "outputId": "bc1f3a23-8b2f-4777-81ef-d2a2a55c08db"
      },
      "source": [
        "print(accuracy)\r\n",
        "index_max=accuracy.index(max(accuracy))\r\n",
        "print(index_max)"
      ],
      "execution_count": 151,
      "outputs": [
        {
          "output_type": "stream",
          "text": [
            "[[0.4745999872684479]]\n",
            "0\n"
          ],
          "name": "stdout"
        }
      ]
    },
    {
      "cell_type": "code",
      "metadata": {
        "colab": {
          "base_uri": "https://localhost:8080/"
        },
        "id": "89qhVRC3s8X-",
        "outputId": "b1592b25-fc17-4f45-fe3a-dd65417a1a21"
      },
      "source": [
        "print(params[index_max])"
      ],
      "execution_count": 152,
      "outputs": [
        {
          "output_type": "stream",
          "text": [
            "{'d1': 200, 'a1': 'relu', 'drop1': 0.2, 'd2': 164, 'a2': 'relu', 'd3': 87, 'a3': 'relu'}\n"
          ],
          "name": "stdout"
        }
      ]
    },
    {
      "cell_type": "code",
      "metadata": {
        "colab": {
          "base_uri": "https://localhost:8080/"
        },
        "id": "E4DYRYi7s-m5",
        "outputId": "cd0a1102-2ac1-496a-8db8-d73ba144c674"
      },
      "source": [
        "print(\"The best neural with \", accuracy[index_max], \"accuracy is\")\r\n",
        "model = models[index_max]\r\n",
        "model.summary()"
      ],
      "execution_count": 153,
      "outputs": [
        {
          "output_type": "stream",
          "text": [
            "The best neural with  [0.4745999872684479] accuracy is\n",
            "Model: \"sequential_9\"\n",
            "_________________________________________________________________\n",
            "Layer (type)                 Output Shape              Param #   \n",
            "=================================================================\n",
            "dense_23 (Dense)             (None, 200)               20200     \n",
            "_________________________________________________________________\n",
            "dropout_6 (Dropout)          (None, 200)               0         \n",
            "_________________________________________________________________\n",
            "dense_24 (Dense)             (None, 164)               32964     \n",
            "_________________________________________________________________\n",
            "dense_25 (Dense)             (None, 87)                14355     \n",
            "_________________________________________________________________\n",
            "dense_26 (Dense)             (None, 4)                 352       \n",
            "=================================================================\n",
            "Total params: 67,871\n",
            "Trainable params: 67,871\n",
            "Non-trainable params: 0\n",
            "_________________________________________________________________\n"
          ],
          "name": "stdout"
        }
      ]
    },
    {
      "cell_type": "markdown",
      "metadata": {
        "id": "IhlbBCO3QgGJ"
      },
      "source": [
        "Check model"
      ]
    },
    {
      "cell_type": "code",
      "metadata": {
        "colab": {
          "base_uri": "https://localhost:8080/"
        },
        "id": "nP9y2HJFRJox",
        "outputId": "c25d5b3e-7539-41cb-bfa8-ff5a54430ced"
      },
      "source": [
        "predicted_boxes = model.predict(x_test)\r\n",
        "predicted_boxes = predicted_boxes * image_size\r\n",
        "predicted_boxes = predicted_boxes.reshape(len(predicted_boxes), num_rectangles, -1)\r\n",
        "predicted_boxes.shape"
      ],
      "execution_count": 154,
      "outputs": [
        {
          "output_type": "execute_result",
          "data": {
            "text/plain": [
              "(20000, 1, 4)"
            ]
          },
          "metadata": {
            "tags": []
          },
          "execution_count": 154
        }
      ]
    },
    {
      "cell_type": "code",
      "metadata": {
        "colab": {
          "base_uri": "https://localhost:8080/",
          "height": 197
        },
        "id": "FiWXlFt1Qd4L",
        "outputId": "df7a3f85-8a5e-4dd6-df5e-42b3e75e6482"
      },
      "source": [
        "plt.figure(figsize=(12, 3))\r\n",
        "for i_subplot in range(1, 5):\r\n",
        "    plt.subplot(1, 4, i_subplot)\r\n",
        "    i = np.random.randint(len(test_images))\r\n",
        "    plt.imshow(test_images[i].T, cmap='Greys', interpolation='none', origin='lower', extent=[0, image_size, 0, image_size])\r\n",
        "    for pred_box, exp_bbox in zip(predicted_boxes[i], test_boxes[i]):\r\n",
        "        plt.gca().add_patch(matplotlib.patches.Rectangle((pred_box[0], pred_box[1]), pred_box[2], pred_box[3], ec='r', fc='none'))"
      ],
      "execution_count": 155,
      "outputs": [
        {
          "output_type": "display_data",
          "data": {
            "image/png": "[encoded data removed]",
            "text/plain": [
              "<Figure size 864x216 with 4 Axes>"
            ]
          },
          "metadata": {
            "tags": [],
            "needs_background": "light"
          }
        }
      ]
    }
  ]
}